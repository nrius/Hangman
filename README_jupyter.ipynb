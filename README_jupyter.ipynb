{
 "cells": [
  {
   "cell_type": "markdown",
   "metadata": {},
   "source": [
    "# Nuria's hangman game\n",
    "\n",
    "<span style=\"color:blue\">*This is my first project, after 4 days at Ironhack!*</span>"
   ]
  },
  {
   "cell_type": "markdown",
   "metadata": {},
   "source": [
    "# Instructions\n",
    "1. This is a game where **human** plays againts **cpu**:\n",
    "2. **cpu** will chose a random *word* from a list of words related to *python*\n",
    "3. **cpu** will ask **human** for input letters (the human *guess*)\n",
    "4. Every *guess* is checked in the *word* to guess\n",
    "5. If the *guess* is present in the *word* **cpu** will tell human how many times \n",
    "6. **cpu** will also display a plot placing the right guess and the previous ones\n",
    "8. **human** can enter 7 wrong *guesses* before being hanged\n",
    "9. If **human** guesses all the letters before exhausting the opportunities, **human** wins\n",
    "10. Otherwise, **human** loses and dies\n",
    "\n",
    "Pretty weird system of appeals, right?"
   ]
  },
  {
   "cell_type": "code",
   "execution_count": 1,
   "metadata": {},
   "outputs": [],
   "source": [
    "#  +---+\n",
    "#  |   |\n",
    "#  |   |\n",
    "#  O   |\n",
    "# /|\\  |\n",
    "# / \\  |\n",
    "#      |\n",
    "#========="
   ]
  },
  {
   "cell_type": "markdown",
   "metadata": {},
   "source": [
    "# PLAY:"
   ]
  },
  {
   "cell_type": "markdown",
   "metadata": {},
   "source": [
    "## If you are using command line:\n",
    "Open hangman_NRius.py in your terminal with\n",
    "\n",
    ">python hangman_nrius.py\n",
    "\n",
    "Follow the instructions from the prompt\n",
    "\n",
    "\n",
    "\n"
   ]
  },
  {
   "cell_type": "markdown",
   "metadata": {},
   "source": [
    "## If you are using jupyter notebook::\n",
    "\n",
    "open hangman_NRius_def.ipynb\n",
    "\n",
    "and simply\n",
    "\n",
    "follow the instructions from the prompt\n"
   ]
  },
  {
   "cell_type": "markdown",
   "metadata": {},
   "source": [
    "# ENJOY!"
   ]
  }
 ],
 "metadata": {
  "kernelspec": {
   "display_name": "Python 3",
   "language": "python",
   "name": "python3"
  },
  "language_info": {
   "codemirror_mode": {
    "name": "ipython",
    "version": 3
   },
   "file_extension": ".py",
   "mimetype": "text/x-python",
   "name": "python",
   "nbconvert_exporter": "python",
   "pygments_lexer": "ipython3",
   "version": "3.8.2"
  },
  "toc": {
   "base_numbering": 1,
   "nav_menu": {},
   "number_sections": true,
   "sideBar": true,
   "skip_h1_title": false,
   "title_cell": "Table of Contents",
   "title_sidebar": "Contents",
   "toc_cell": false,
   "toc_position": {},
   "toc_section_display": true,
   "toc_window_display": false
  },
  "varInspector": {
   "cols": {
    "lenName": 16,
    "lenType": 16,
    "lenVar": 40
   },
   "kernels_config": {
    "python": {
     "delete_cmd_postfix": "",
     "delete_cmd_prefix": "del ",
     "library": "var_list.py",
     "varRefreshCmd": "print(var_dic_list())"
    },
    "r": {
     "delete_cmd_postfix": ") ",
     "delete_cmd_prefix": "rm(",
     "library": "var_list.r",
     "varRefreshCmd": "cat(var_dic_list()) "
    }
   },
   "types_to_exclude": [
    "module",
    "function",
    "builtin_function_or_method",
    "instance",
    "_Feature"
   ],
   "window_display": false
  }
 },
 "nbformat": 4,
 "nbformat_minor": 4
}
